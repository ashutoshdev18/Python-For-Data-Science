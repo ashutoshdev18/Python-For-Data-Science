{
  "nbformat": 4,
  "nbformat_minor": 0,
  "metadata": {
    "colab": {
      "provenance": []
    },
    "kernelspec": {
      "name": "python3",
      "display_name": "Python 3"
    },
    "language_info": {
      "name": "python"
    }
  },
  "cells": [
    {
      "cell_type": "code",
      "execution_count": 11,
      "metadata": {
        "colab": {
          "base_uri": "https://localhost:8080/"
        },
        "id": "wYYsz19SeIEB",
        "outputId": "fb73cbd8-db08-48c2-91d4-f0b05849e073"
      },
      "outputs": [
        {
          "output_type": "stream",
          "name": "stdout",
          "text": [
            "Additon 15\n",
            "Subtraction 13\n",
            "Multiplication 122\n",
            "Division --> Float 5.0\n",
            "Modulous or Remainder 2\n",
            "Power 27\n"
          ]
        }
      ],
      "source": [
        "a = 5 + 10\n",
        "print(\"Additon\", str(a))\n",
        "b = 19 - 6\n",
        "print(\"Subtraction\", str(b))\n",
        "c = 61 * 2\n",
        "print(\"Multiplication\", str(c))\n",
        "d = 45 / 9\n",
        "print(\"Division --> Float\", str(d))\n",
        "# d = 45 // 9\n",
        "# print(\"Divison --> Integer\", str(d))\n",
        "e = 12 % 10\n",
        "print(\"Modulous or Remainder\", str(e))\n",
        "f = 3 ** 3\n",
        "print(\"Power\", str(f))"
      ]
    },
    {
      "cell_type": "code",
      "source": [
        "#printing using the format --> f\n",
        "\n",
        "print(f\"the type of b is {type(b)}\")\n",
        "\n",
        "print(f\"the type of d is: {type(d)}\")"
      ],
      "metadata": {
        "colab": {
          "base_uri": "https://localhost:8080/"
        },
        "id": "tHkJWi0sgNkC",
        "outputId": "9e01b5ad-93a7-43a3-a7f4-c43fd3ef3fb5"
      },
      "execution_count": 12,
      "outputs": [
        {
          "output_type": "stream",
          "name": "stdout",
          "text": [
            "the type of b is <class 'int'>\n",
            "the type of d is: <class 'float'>\n"
          ]
        }
      ]
    },
    {
      "cell_type": "code",
      "source": [
        "#custom input:\n",
        "\n",
        "name = input(\"Enter your full name: \")\n",
        "print(\"Hii! \" + name)"
      ],
      "metadata": {
        "colab": {
          "base_uri": "https://localhost:8080/"
        },
        "id": "zeIP_-6xhHs9",
        "outputId": "11b9e5c8-882c-49eb-dda9-da0a4348794c"
      },
      "execution_count": 13,
      "outputs": [
        {
          "output_type": "stream",
          "name": "stdout",
          "text": [
            "Enter your full name: Ashutosh Pandey\n",
            "Hii! Ashutosh Pandey\n"
          ]
        }
      ]
    },
    {
      "cell_type": "code",
      "source": [
        "age = int(input(\"Enter your age: \"))\n",
        "new = age + 1\n",
        "name = input(\"Enter your name: \")\n",
        "print(\"Hey! \" + name + \" Next year you will be \" + str(new))"
      ],
      "metadata": {
        "colab": {
          "base_uri": "https://localhost:8080/"
        },
        "id": "KjSk1eqtjQmU",
        "outputId": "593d26b3-62c7-47a7-acb0-79c5b544a037"
      },
      "execution_count": 14,
      "outputs": [
        {
          "output_type": "stream",
          "name": "stdout",
          "text": [
            "Enter your age: 23\n",
            "Enter your name: Ashutosh\n",
            "Hey! Ashutosh Next year you will be 24\n"
          ]
        }
      ]
    },
    {
      "cell_type": "code",
      "source": [
        "new_list = [1, 2, \"string\"]\n",
        "print(type(new_list))"
      ],
      "metadata": {
        "colab": {
          "base_uri": "https://localhost:8080/"
        },
        "id": "X53unhWPjdYb",
        "outputId": "0c28ad3a-f6a3-434d-d3b4-c63508fc4b09"
      },
      "execution_count": 15,
      "outputs": [
        {
          "output_type": "stream",
          "name": "stdout",
          "text": [
            "<class 'list'>\n"
          ]
        }
      ]
    },
    {
      "cell_type": "code",
      "source": [
        "#accessing values by index\n",
        "new_list[0]"
      ],
      "metadata": {
        "colab": {
          "base_uri": "https://localhost:8080/"
        },
        "id": "R63k9m2UkJW_",
        "outputId": "12f6a168-4659-4314-f73b-dff2a9f1e196"
      },
      "execution_count": 17,
      "outputs": [
        {
          "output_type": "execute_result",
          "data": {
            "text/plain": [
              "1"
            ]
          },
          "metadata": {},
          "execution_count": 17
        }
      ]
    },
    {
      "cell_type": "code",
      "source": [
        "#updating value by index\n",
        "new_list[1] = 'new string'\n",
        "print(new_list)"
      ],
      "metadata": {
        "colab": {
          "base_uri": "https://localhost:8080/"
        },
        "id": "A18YPqLZkNDt",
        "outputId": "80136ff1-757b-428d-dcd5-bddbf7923d8f"
      },
      "execution_count": 20,
      "outputs": [
        {
          "output_type": "stream",
          "name": "stdout",
          "text": [
            "[1, 'new string', 'string']\n"
          ]
        }
      ]
    },
    {
      "cell_type": "code",
      "source": [
        "#tuple\n",
        "new_tuple = (0, \"string\")\n",
        "print(type(new_tuple))"
      ],
      "metadata": {
        "colab": {
          "base_uri": "https://localhost:8080/"
        },
        "id": "v1d9b8KKkU0B",
        "outputId": "d25ed8a8-c24c-4eea-ad25-a8096a6f510e"
      },
      "execution_count": 22,
      "outputs": [
        {
          "output_type": "stream",
          "name": "stdout",
          "text": [
            "<class 'tuple'>\n"
          ]
        }
      ]
    },
    {
      "cell_type": "code",
      "source": [
        "#trying to update value in tuple\n",
        "new_tuple[1] = 'new string'"
      ],
      "metadata": {
        "colab": {
          "base_uri": "https://localhost:8080/",
          "height": 182
        },
        "id": "T3p37dnqknec",
        "outputId": "9cacb110-a950-4f2d-d90e-c266c8428ae3"
      },
      "execution_count": 23,
      "outputs": [
        {
          "output_type": "error",
          "ename": "TypeError",
          "evalue": "ignored",
          "traceback": [
            "\u001b[0;31m---------------------------------------------------------------------------\u001b[0m",
            "\u001b[0;31mTypeError\u001b[0m                                 Traceback (most recent call last)",
            "\u001b[0;32m<ipython-input-23-96d23cac3368>\u001b[0m in \u001b[0;36m<module>\u001b[0;34m\u001b[0m\n\u001b[1;32m      1\u001b[0m \u001b[0;31m#trying to update value in tuple\u001b[0m\u001b[0;34m\u001b[0m\u001b[0;34m\u001b[0m\u001b[0;34m\u001b[0m\u001b[0m\n\u001b[0;32m----> 2\u001b[0;31m \u001b[0mnew_tuple\u001b[0m\u001b[0;34m[\u001b[0m\u001b[0;36m1\u001b[0m\u001b[0;34m]\u001b[0m \u001b[0;34m=\u001b[0m \u001b[0;34m'new string'\u001b[0m\u001b[0;34m\u001b[0m\u001b[0;34m\u001b[0m\u001b[0m\n\u001b[0m",
            "\u001b[0;31mTypeError\u001b[0m: 'tuple' object does not support item assignment"
          ]
        }
      ]
    },
    {
      "cell_type": "code",
      "source": [
        "new_dict = { \"Name\" : \"Ashutosh\",\n",
        "             \"Age\" : \"24\",\n",
        "             \"Profession\" : \"Software Developer\"\n",
        "           }\n",
        "print(new_dict)\n",
        "print(type(new_dict)) "
      ],
      "metadata": {
        "colab": {
          "base_uri": "https://localhost:8080/"
        },
        "id": "FfhtRZDmkvNP",
        "outputId": "36094808-43ad-4d80-9024-b7487671621f"
      },
      "execution_count": 24,
      "outputs": [
        {
          "output_type": "stream",
          "name": "stdout",
          "text": [
            "{'Name': 'Ashutosh', 'Age': '24', 'Profession': 'Software Developer'}\n",
            "<class 'dict'>\n"
          ]
        }
      ]
    },
    {
      "cell_type": "code",
      "source": [
        "#printing all the values\n",
        "print(new_dict.values())\n",
        "print()\n",
        "\n",
        "#printing all keys\n",
        "print(new_dict.keys())\n",
        "print()\n",
        "\n",
        "#accessing values by key\n",
        "print(new_dict['Age'])\n",
        "print()\n",
        "\n",
        "#What happens when the key is not present\n",
        "# print(new_dict['Salary']) --> Gives error\n",
        "\n",
        "#WE CAN USE GET TO AVOID ERROR BY POINTING CUSTOM VALUE OR NA\n",
        "print(new_dict.get('Salary', 'Not Present'))"
      ],
      "metadata": {
        "colab": {
          "base_uri": "https://localhost:8080/"
        },
        "id": "1k8vvgtkmqNZ",
        "outputId": "ede8b705-d63f-4462-84cf-163cc0c8c969"
      },
      "execution_count": 31,
      "outputs": [
        {
          "output_type": "stream",
          "name": "stdout",
          "text": [
            "dict_values(['Ashutosh', '24', 'Software Developer'])\n",
            "\n",
            "dict_keys(['Name', 'Age', 'Profession'])\n",
            "\n",
            "24\n",
            "\n",
            "Not Present\n"
          ]
        }
      ]
    },
    {
      "cell_type": "code",
      "source": [
        "# Learning sets\n",
        "\n",
        "sets = set([1, 1, 4, 4, 4, 9, 9, 16, 25, 25, 25])\n",
        "print(sets)\n",
        "print(type(sets))"
      ],
      "metadata": {
        "colab": {
          "base_uri": "https://localhost:8080/"
        },
        "id": "KKto8xZImyE9",
        "outputId": "c3f75b8c-a330-4136-daf0-7ad42bba660a"
      },
      "execution_count": 32,
      "outputs": [
        {
          "output_type": "stream",
          "name": "stdout",
          "text": [
            "{1, 4, 9, 16, 25}\n",
            "<class 'set'>\n"
          ]
        }
      ]
    },
    {
      "cell_type": "code",
      "source": [
        "#What happens if string is passed or list of string is passed\n",
        "\n",
        "sets = set(\"Hello\")\n",
        "print(sets)\n",
        "\n",
        "print(\"Each character of the string is treated as a value\")\n",
        "print()\n",
        "print()\n",
        "\n",
        "print(\"Observing what happens when list of strings passed\")\n",
        "print()\n",
        "sets = set([\"Hello\", \"Hii\", \"Ashutosh\", \"Ashutosh\", \"Ashutosh\"])\n",
        "print(sets)\n",
        "print(\"Here each string as treated as value\")"
      ],
      "metadata": {
        "colab": {
          "base_uri": "https://localhost:8080/"
        },
        "id": "l1N5VqYXofWF",
        "outputId": "a4d15d54-80e5-4dc7-cef3-46e1bb0b766d"
      },
      "execution_count": 36,
      "outputs": [
        {
          "output_type": "stream",
          "name": "stdout",
          "text": [
            "{'o', 'l', 'H', 'e'}\n",
            "Each character of the string is treated as a value\n",
            "\n",
            "\n",
            "Observing what happens when list of strings passed\n",
            "\n",
            "{'Hello', 'Hii', 'Ashutosh'}\n",
            "Here each string as treated as value\n"
          ]
        }
      ]
    },
    {
      "cell_type": "code",
      "source": [
        "#CONTROL STRUCTURES\n",
        "\n",
        "obtained_marks = 67\n",
        "whats_grade = None\n",
        "\n",
        "if obtained_marks >= 90:\n",
        "  whats_grade = 'A'\n",
        "elif obtained_marks >= 80:\n",
        "  whats_grade = 'B'\n",
        "elif obtained_marks >= 70:\n",
        "  whats_grade = 'C'\n",
        "elif obtained_marks >= 60:\n",
        "  whats_grade = 'C-'\n",
        "else:\n",
        "  whats_grade = 'F'\n",
        "\n",
        "print(\"The grade is {} \".format(whats_grade))"
      ],
      "metadata": {
        "colab": {
          "base_uri": "https://localhost:8080/"
        },
        "id": "yyb1qm_IpFys",
        "outputId": "40345892-f2b4-4861-d225-6dca38f5fbdd"
      },
      "execution_count": 38,
      "outputs": [
        {
          "output_type": "stream",
          "name": "stdout",
          "text": [
            "The grade is C- \n"
          ]
        }
      ]
    },
    {
      "cell_type": "code",
      "source": [
        "#LOOPS\n",
        "\n",
        "#print from 1 to n\n",
        "n = int(input(\"Enter the number: \"))\n",
        "for i in range(1, n+1):\n",
        "  print(i, end=\" \")"
      ],
      "metadata": {
        "colab": {
          "base_uri": "https://localhost:8080/"
        },
        "id": "g10q51-oqpw4",
        "outputId": "9ce06574-1c69-4b2b-a509-a3d3e2b29acd"
      },
      "execution_count": 42,
      "outputs": [
        {
          "output_type": "stream",
          "name": "stdout",
          "text": [
            "Enter the number: 5\n",
            "1 2 3 4 5 "
          ]
        }
      ]
    },
    {
      "cell_type": "code",
      "source": [
        "#printing odd numbers from 1 to n\n",
        "\n",
        "x = int(input(\"Enter the number: \"))\n",
        "\n",
        "# for i in range(1, x+1):\n",
        "#   if i % 2 != 0:\n",
        "#     print(i, end=\" \")\n",
        "\n",
        "for i in range(1, x+1, 2):\n",
        "  print(i, end=\" \")"
      ],
      "metadata": {
        "colab": {
          "base_uri": "https://localhost:8080/"
        },
        "id": "Sakps29Yrw1U",
        "outputId": "3c50caa2-b3ec-4211-9d1e-b953fdc7a920"
      },
      "execution_count": 44,
      "outputs": [
        {
          "output_type": "stream",
          "name": "stdout",
          "text": [
            "Enter the number: 100\n",
            "1 3 5 7 9 11 13 15 17 19 21 23 25 27 29 31 33 35 37 39 41 43 45 47 49 51 53 55 57 59 61 63 65 67 69 71 73 75 77 79 81 83 85 87 89 91 93 95 97 99 "
          ]
        }
      ]
    },
    {
      "cell_type": "code",
      "source": [
        "vowels = ['a', 'e', 'i', 'o', 'u']\n",
        "text = \"Hello\"\n",
        "vowel_count = 0\n",
        "\n",
        "for ch in text:\n",
        "  if ch in vowels:\n",
        "    vowel_count += 1\n",
        "\n",
        "print(\"The count of vowels present: {}\".format(vowel_count))"
      ],
      "metadata": {
        "colab": {
          "base_uri": "https://localhost:8080/"
        },
        "id": "kHCsMVLAsYNC",
        "outputId": "9b40e71e-cd5c-4b6e-e787-c0d96a489df7"
      },
      "execution_count": 46,
      "outputs": [
        {
          "output_type": "stream",
          "name": "stdout",
          "text": [
            "The count of vowels present: 2\n"
          ]
        }
      ]
    },
    {
      "cell_type": "code",
      "source": [
        "#WHILE LOOPS\n",
        "\n",
        "a = 1\n",
        "while a <= 100:\n",
        "  print(a, end=\" \")\n",
        "  a += 1"
      ],
      "metadata": {
        "colab": {
          "base_uri": "https://localhost:8080/"
        },
        "id": "4YLq0afhs1Fn",
        "outputId": "3b6a2f07-8d73-426a-a95f-c4229bf8fbfa"
      },
      "execution_count": 51,
      "outputs": [
        {
          "output_type": "stream",
          "name": "stdout",
          "text": [
            "1 2 3 4 5 6 7 8 9 10 11 12 13 14 15 16 17 18 19 20 21 22 23 24 25 26 27 28 29 30 31 32 33 34 35 36 37 38 39 40 41 42 43 44 45 46 47 48 49 50 51 52 53 54 55 56 57 58 59 60 61 62 63 64 65 66 67 68 69 70 71 72 73 74 75 76 77 78 79 80 81 82 83 84 85 86 87 88 89 90 91 92 93 94 95 96 97 98 99 100 "
          ]
        }
      ]
    },
    {
      "cell_type": "code",
      "source": [
        "#LIST COMPREHENSION\n",
        "\n",
        "l = list([1, 2, 3, 4, 5])\n",
        "print(type(l))\n",
        "print(\"using list comprehension to square each number in the list\")\n",
        "print()\n",
        "\n",
        "square_list = [i ** 2 for i in l]\n",
        "print(square_list)"
      ],
      "metadata": {
        "colab": {
          "base_uri": "https://localhost:8080/"
        },
        "id": "N4wu1dP-ujls",
        "outputId": "f1dd03de-7502-498e-fcbe-755cb0748e8a"
      },
      "execution_count": 54,
      "outputs": [
        {
          "output_type": "stream",
          "name": "stdout",
          "text": [
            "<class 'list'>\n",
            "using list comprehension to square each number in the list\n",
            "\n",
            "[1, 4, 9, 16, 25]\n"
          ]
        }
      ]
    },
    {
      "cell_type": "code",
      "source": [
        "# square if even number else cube if odd\n",
        "\n",
        "sq_cu_list = [i ** 2 if i % 2 == 0 else i ** 3 for i in l]\n",
        "\n",
        "print(sq_cu_list)"
      ],
      "metadata": {
        "colab": {
          "base_uri": "https://localhost:8080/"
        },
        "id": "-HoZkwkCvrx7",
        "outputId": "9f742866-3c25-4f71-fbe0-8dc73e30e986"
      },
      "execution_count": 55,
      "outputs": [
        {
          "output_type": "stream",
          "name": "stdout",
          "text": [
            "[1, 4, 27, 16, 125]\n"
          ]
        }
      ]
    },
    {
      "cell_type": "code",
      "source": [
        "#Learning functions\n",
        "\n",
        "def square_num(x):\n",
        "  return x ** 2\n",
        "\n",
        "res = square_num(9)\n",
        "print(res)"
      ],
      "metadata": {
        "colab": {
          "base_uri": "https://localhost:8080/"
        },
        "id": "gmr8g_c5wa4_",
        "outputId": "1776c3ec-af1f-4394-d1f9-2778410acbf8"
      },
      "execution_count": 56,
      "outputs": [
        {
          "output_type": "stream",
          "name": "stdout",
          "text": [
            "81\n"
          ]
        }
      ]
    },
    {
      "cell_type": "code",
      "source": [
        "#practice lambda\n",
        "\n",
        "x_to_square = lambda x: x ** 2\n",
        "\n",
        "x = [1, 2, 3, 4, 5, 6, 7, 8, 9, 10]\n",
        "# for i in range(len(x)):\n",
        "#   print(x_to_square(x[i]), end=\" \")"
      ],
      "metadata": {
        "id": "Nnf6YkKrxw4c"
      },
      "execution_count": 80,
      "outputs": []
    },
    {
      "cell_type": "code",
      "source": [
        "#MAP EXAMPLE\n",
        "# x_squared = [1, 4, 9, 16, 25, 36, 64, 49, 64, 81, 100]\n",
        "\n",
        "res_map = list(map(x_to_square, x))\n",
        "print(type(res_map))\n",
        "# print(list(res_map))\n",
        "\n",
        "# print(type(x_squared))\n",
        "res_map"
      ],
      "metadata": {
        "colab": {
          "base_uri": "https://localhost:8080/"
        },
        "id": "h0Aoh51Syq3j",
        "outputId": "d76983f5-98ba-48b4-ff87-97bc0062443f"
      },
      "execution_count": 81,
      "outputs": [
        {
          "output_type": "stream",
          "name": "stdout",
          "text": [
            "<class 'list'>\n"
          ]
        },
        {
          "output_type": "execute_result",
          "data": {
            "text/plain": [
              "[1, 4, 9, 16, 25, 36, 49, 64, 81, 100]"
            ]
          },
          "metadata": {},
          "execution_count": 81
        }
      ]
    },
    {
      "cell_type": "code",
      "source": [
        "#FILTER EXAMPLE\n",
        "\n",
        "print(list(filter(lambda x : x % 2 == 0, res_map)))"
      ],
      "metadata": {
        "colab": {
          "base_uri": "https://localhost:8080/"
        },
        "id": "yMUhzF8Tzjbb",
        "outputId": "d7685902-645c-4947-e0a0-7c239aeb40b1"
      },
      "execution_count": 82,
      "outputs": [
        {
          "output_type": "stream",
          "name": "stdout",
          "text": [
            "[4, 16, 36, 64, 100]\n"
          ]
        }
      ]
    },
    {
      "cell_type": "code",
      "source": [
        "#REDUCE EXAMPLE\n",
        "from functools import reduce\n",
        "print(reduce(lambda a, b: a if a > b else b, x))"
      ],
      "metadata": {
        "colab": {
          "base_uri": "https://localhost:8080/"
        },
        "id": "fQq8yjGl6RfI",
        "outputId": "1325dc78-70e6-4dda-a628-a43cae62688b"
      },
      "execution_count": 83,
      "outputs": [
        {
          "output_type": "stream",
          "name": "stdout",
          "text": [
            "10\n"
          ]
        }
      ]
    },
    {
      "cell_type": "code",
      "source": [
        "#CODING QUESTION\n",
        "\n",
        "# 1) FIBONACCI SERIES OF A NUMBER N\n",
        "\n",
        "first = 0\n",
        "second = 1\n",
        "\n",
        "n = int(input(\"ENTER THE NUMBER: \"))\n",
        "\n",
        "i = 2\n",
        "for i in range(n+1):\n",
        "  print(first)\n",
        "  third = first + second\n",
        "  first = second\n",
        "  second = third"
      ],
      "metadata": {
        "colab": {
          "base_uri": "https://localhost:8080/"
        },
        "id": "NAUe2GSa7GI-",
        "outputId": "49d1da03-9073-472b-90d0-116623bf55c2"
      },
      "execution_count": 85,
      "outputs": [
        {
          "output_type": "stream",
          "name": "stdout",
          "text": [
            "ENTER THE NUMBER: 5\n",
            "0\n",
            "1\n",
            "1\n",
            "2\n",
            "3\n",
            "5\n"
          ]
        }
      ]
    },
    {
      "cell_type": "code",
      "source": [
        "# 2) CHECK IF A STRING IS PALINDROME OR NOT\n",
        "\n",
        "strs = input()\n",
        "\n",
        "i = 0\n",
        "j = len(strs)-1\n",
        "\n",
        "isPalindrome = True\n",
        "\n",
        "while i < j:\n",
        "  if strs[i] != strs[j]:\n",
        "    isPalindrome = False\n",
        "    break\n",
        "  i += 1\n",
        "  j -= 1\n",
        "\n",
        "if isPalindrome:\n",
        "  print(\"Palindrome string: \"+strs)\n",
        "else:\n",
        "  print(\"Not a Palindrome string: \"+(strs))"
      ],
      "metadata": {
        "colab": {
          "base_uri": "https://localhost:8080/"
        },
        "id": "FSvv0FPL8jRl",
        "outputId": "dd7a3d76-b962-4c5a-fd2b-515f9d313a76"
      },
      "execution_count": 89,
      "outputs": [
        {
          "output_type": "stream",
          "name": "stdout",
          "text": [
            "ashuuhsa\n",
            "Palindrome string: ashuuhsa\n"
          ]
        }
      ]
    },
    {
      "cell_type": "code",
      "source": [],
      "metadata": {
        "id": "pxgmDHPF94bo"
      },
      "execution_count": null,
      "outputs": []
    }
  ]
}